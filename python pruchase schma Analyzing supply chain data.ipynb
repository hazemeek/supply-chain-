{
 "cells": [
  {
   "cell_type": "code",
   "execution_count": 1,
   "id": "4d52413a-c865-4000-93d9-7c4cb486eb2f",
   "metadata": {},
   "outputs": [],
   "source": [
    "import pandas as pd"
   ]
  },
  {
   "cell_type": "code",
   "execution_count": 4,
   "id": "ebaaa10e-2181-4617-82de-ad3db7a989d0",
   "metadata": {},
   "outputs": [],
   "source": [
    "df = pd.read_csv('C:/Users/Asus/Desktop/finalproject1.csv', header=0)"
   ]
  },
  {
   "cell_type": "code",
   "execution_count": 6,
   "id": "55b9e5ba-a1aa-4c6e-981e-9a87327cfd68",
   "metadata": {},
   "outputs": [
    {
     "name": "stdout",
     "output_type": "stream",
     "text": [
      "   pruchaseorderid  vendorid orderdate  shipdate   subtotal    taxamt  \\\n",
      "0               12      1628  14-12-11  23-12-11  34644.225  2771.538   \n",
      "1               12      1628  14-12-11  23-12-11  34644.225  2771.538   \n",
      "2               12      1628  14-12-11  23-12-11  34644.225  2771.538   \n",
      "3               19      1696  15-12-11  24-12-11  79204.125  6336.330   \n",
      "4               19      1696  15-12-11  24-12-11  79204.125  6336.330   \n",
      "\n",
      "      fright    totaldue   duedate  orderqty  ...  linetotal  resevedqty  \\\n",
      "0   866.1056  38281.8686  28-12-11       550  ...  34644.225         550   \n",
      "1   866.1056  38281.8686  28-12-11       550  ...  34644.225         550   \n",
      "2   866.1056  38281.8686  28-12-11       550  ...  34644.225         550   \n",
      "3  1980.1031  87520.5581  29-12-11       550  ...  11601.975         550   \n",
      "4  1980.1031  87520.5581  29-12-11       550  ...  11601.975         550   \n",
      "\n",
      "   rfjectedqty  stockedqty     shipmethodname quantity  \\\n",
      "0           82         468  CARGO TRANSPORT 5      235   \n",
      "1           82         468  CARGO TRANSPORT 5      262   \n",
      "2           82         468  CARGO TRANSPORT 5      388   \n",
      "3            0         550       ZY - EXPRESS      400   \n",
      "4            0         550       ZY - EXPRESS      214   \n",
      "\n",
      "               productname saftystocklevel  subcatogryname catogryname  \n",
      "0            Touring Pedal             500          Pedals  Components  \n",
      "1            Touring Pedal             500          Pedals  Components  \n",
      "2            Touring Pedal             500          Pedals  Components  \n",
      "3  LL Mountain Seat/Saddle             500         Saddles  Components  \n",
      "4  LL Mountain Seat/Saddle             500         Saddles  Components  \n",
      "\n",
      "[5 rows x 21 columns]\n"
     ]
    }
   ],
   "source": [
    "print(df.head())"
   ]
  },
  {
   "cell_type": "code",
   "execution_count": 8,
   "id": "0ba01a32-8db0-43d0-a981-d7fc4876be6e",
   "metadata": {},
   "outputs": [
    {
     "data": {
      "text/html": [
       "<div>\n",
       "<style scoped>\n",
       "    .dataframe tbody tr th:only-of-type {\n",
       "        vertical-align: middle;\n",
       "    }\n",
       "\n",
       "    .dataframe tbody tr th {\n",
       "        vertical-align: top;\n",
       "    }\n",
       "\n",
       "    .dataframe thead th {\n",
       "        text-align: right;\n",
       "    }\n",
       "</style>\n",
       "<table border=\"1\" class=\"dataframe\">\n",
       "  <thead>\n",
       "    <tr style=\"text-align: right;\">\n",
       "      <th></th>\n",
       "      <th>pruchaseorderid</th>\n",
       "      <th>vendorid</th>\n",
       "      <th>orderdate</th>\n",
       "      <th>shipdate</th>\n",
       "      <th>subtotal</th>\n",
       "      <th>taxamt</th>\n",
       "      <th>fright</th>\n",
       "      <th>totaldue</th>\n",
       "      <th>duedate</th>\n",
       "      <th>orderqty</th>\n",
       "      <th>...</th>\n",
       "      <th>linetotal</th>\n",
       "      <th>resevedqty</th>\n",
       "      <th>rfjectedqty</th>\n",
       "      <th>stockedqty</th>\n",
       "      <th>shipmethodname</th>\n",
       "      <th>quantity</th>\n",
       "      <th>productname</th>\n",
       "      <th>saftystocklevel</th>\n",
       "      <th>subcatogryname</th>\n",
       "      <th>catogryname</th>\n",
       "    </tr>\n",
       "  </thead>\n",
       "  <tbody>\n",
       "    <tr>\n",
       "      <th>0</th>\n",
       "      <td>12</td>\n",
       "      <td>1628</td>\n",
       "      <td>14-12-11</td>\n",
       "      <td>23-12-11</td>\n",
       "      <td>34644.225</td>\n",
       "      <td>2771.538</td>\n",
       "      <td>866.1056</td>\n",
       "      <td>3.828187e+04</td>\n",
       "      <td>28-12-11</td>\n",
       "      <td>550</td>\n",
       "      <td>...</td>\n",
       "      <td>34644.225</td>\n",
       "      <td>550</td>\n",
       "      <td>82</td>\n",
       "      <td>468</td>\n",
       "      <td>CARGO TRANSPORT 5</td>\n",
       "      <td>235</td>\n",
       "      <td>Touring Pedal</td>\n",
       "      <td>500</td>\n",
       "      <td>Pedals</td>\n",
       "      <td>Components</td>\n",
       "    </tr>\n",
       "    <tr>\n",
       "      <th>1</th>\n",
       "      <td>12</td>\n",
       "      <td>1628</td>\n",
       "      <td>14-12-11</td>\n",
       "      <td>23-12-11</td>\n",
       "      <td>34644.225</td>\n",
       "      <td>2771.538</td>\n",
       "      <td>866.1056</td>\n",
       "      <td>3.828187e+04</td>\n",
       "      <td>28-12-11</td>\n",
       "      <td>550</td>\n",
       "      <td>...</td>\n",
       "      <td>34644.225</td>\n",
       "      <td>550</td>\n",
       "      <td>82</td>\n",
       "      <td>468</td>\n",
       "      <td>CARGO TRANSPORT 5</td>\n",
       "      <td>262</td>\n",
       "      <td>Touring Pedal</td>\n",
       "      <td>500</td>\n",
       "      <td>Pedals</td>\n",
       "      <td>Components</td>\n",
       "    </tr>\n",
       "    <tr>\n",
       "      <th>2</th>\n",
       "      <td>12</td>\n",
       "      <td>1628</td>\n",
       "      <td>14-12-11</td>\n",
       "      <td>23-12-11</td>\n",
       "      <td>34644.225</td>\n",
       "      <td>2771.538</td>\n",
       "      <td>866.1056</td>\n",
       "      <td>3.828187e+04</td>\n",
       "      <td>28-12-11</td>\n",
       "      <td>550</td>\n",
       "      <td>...</td>\n",
       "      <td>34644.225</td>\n",
       "      <td>550</td>\n",
       "      <td>82</td>\n",
       "      <td>468</td>\n",
       "      <td>CARGO TRANSPORT 5</td>\n",
       "      <td>388</td>\n",
       "      <td>Touring Pedal</td>\n",
       "      <td>500</td>\n",
       "      <td>Pedals</td>\n",
       "      <td>Components</td>\n",
       "    </tr>\n",
       "    <tr>\n",
       "      <th>3</th>\n",
       "      <td>19</td>\n",
       "      <td>1696</td>\n",
       "      <td>15-12-11</td>\n",
       "      <td>24-12-11</td>\n",
       "      <td>79204.125</td>\n",
       "      <td>6336.330</td>\n",
       "      <td>1980.1031</td>\n",
       "      <td>8.752056e+04</td>\n",
       "      <td>29-12-11</td>\n",
       "      <td>550</td>\n",
       "      <td>...</td>\n",
       "      <td>11601.975</td>\n",
       "      <td>550</td>\n",
       "      <td>0</td>\n",
       "      <td>550</td>\n",
       "      <td>ZY - EXPRESS</td>\n",
       "      <td>400</td>\n",
       "      <td>LL Mountain Seat/Saddle</td>\n",
       "      <td>500</td>\n",
       "      <td>Saddles</td>\n",
       "      <td>Components</td>\n",
       "    </tr>\n",
       "    <tr>\n",
       "      <th>4</th>\n",
       "      <td>19</td>\n",
       "      <td>1696</td>\n",
       "      <td>15-12-11</td>\n",
       "      <td>24-12-11</td>\n",
       "      <td>79204.125</td>\n",
       "      <td>6336.330</td>\n",
       "      <td>1980.1031</td>\n",
       "      <td>8.752056e+04</td>\n",
       "      <td>29-12-11</td>\n",
       "      <td>550</td>\n",
       "      <td>...</td>\n",
       "      <td>11601.975</td>\n",
       "      <td>550</td>\n",
       "      <td>0</td>\n",
       "      <td>550</td>\n",
       "      <td>ZY - EXPRESS</td>\n",
       "      <td>214</td>\n",
       "      <td>LL Mountain Seat/Saddle</td>\n",
       "      <td>500</td>\n",
       "      <td>Saddles</td>\n",
       "      <td>Components</td>\n",
       "    </tr>\n",
       "    <tr>\n",
       "      <th>...</th>\n",
       "      <td>...</td>\n",
       "      <td>...</td>\n",
       "      <td>...</td>\n",
       "      <td>...</td>\n",
       "      <td>...</td>\n",
       "      <td>...</td>\n",
       "      <td>...</td>\n",
       "      <td>...</td>\n",
       "      <td>...</td>\n",
       "      <td>...</td>\n",
       "      <td>...</td>\n",
       "      <td>...</td>\n",
       "      <td>...</td>\n",
       "      <td>...</td>\n",
       "      <td>...</td>\n",
       "      <td>...</td>\n",
       "      <td>...</td>\n",
       "      <td>...</td>\n",
       "      <td>...</td>\n",
       "      <td>...</td>\n",
       "      <td>...</td>\n",
       "    </tr>\n",
       "    <tr>\n",
       "      <th>4987</th>\n",
       "      <td>4011</td>\n",
       "      <td>1546</td>\n",
       "      <td>24-06-14</td>\n",
       "      <td>19-07-14</td>\n",
       "      <td>54492.500</td>\n",
       "      <td>4359.400</td>\n",
       "      <td>1089.8500</td>\n",
       "      <td>5.994175e+04</td>\n",
       "      <td>24-07-14</td>\n",
       "      <td>1000</td>\n",
       "      <td>...</td>\n",
       "      <td>20560.000</td>\n",
       "      <td>1000</td>\n",
       "      <td>0</td>\n",
       "      <td>1000</td>\n",
       "      <td>OVERSEAS - DELUXE</td>\n",
       "      <td>108</td>\n",
       "      <td>Hydration Pack - 70 oz.</td>\n",
       "      <td>4</td>\n",
       "      <td>Hydration Packs</td>\n",
       "      <td>Accessories</td>\n",
       "    </tr>\n",
       "    <tr>\n",
       "      <th>4988</th>\n",
       "      <td>4012</td>\n",
       "      <td>1636</td>\n",
       "      <td>24-06-14</td>\n",
       "      <td>19-07-14</td>\n",
       "      <td>997680.000</td>\n",
       "      <td>79814.400</td>\n",
       "      <td>19953.6000</td>\n",
       "      <td>1.097448e+06</td>\n",
       "      <td>24-07-14</td>\n",
       "      <td>6000</td>\n",
       "      <td>...</td>\n",
       "      <td>249420.000</td>\n",
       "      <td>6000</td>\n",
       "      <td>0</td>\n",
       "      <td>6000</td>\n",
       "      <td>OVERSEAS - DELUXE</td>\n",
       "      <td>324</td>\n",
       "      <td>Short-Sleeve Classic Jersey, S</td>\n",
       "      <td>4</td>\n",
       "      <td>Jerseys</td>\n",
       "      <td>Clothing</td>\n",
       "    </tr>\n",
       "    <tr>\n",
       "      <th>4989</th>\n",
       "      <td>4012</td>\n",
       "      <td>1636</td>\n",
       "      <td>24-06-14</td>\n",
       "      <td>19-07-14</td>\n",
       "      <td>997680.000</td>\n",
       "      <td>79814.400</td>\n",
       "      <td>19953.6000</td>\n",
       "      <td>1.097448e+06</td>\n",
       "      <td>24-07-14</td>\n",
       "      <td>6000</td>\n",
       "      <td>...</td>\n",
       "      <td>249420.000</td>\n",
       "      <td>6000</td>\n",
       "      <td>0</td>\n",
       "      <td>6000</td>\n",
       "      <td>OVERSEAS - DELUXE</td>\n",
       "      <td>0</td>\n",
       "      <td>Short-Sleeve Classic Jersey, M</td>\n",
       "      <td>4</td>\n",
       "      <td>Jerseys</td>\n",
       "      <td>Clothing</td>\n",
       "    </tr>\n",
       "    <tr>\n",
       "      <th>4990</th>\n",
       "      <td>4012</td>\n",
       "      <td>1636</td>\n",
       "      <td>24-06-14</td>\n",
       "      <td>19-07-14</td>\n",
       "      <td>997680.000</td>\n",
       "      <td>79814.400</td>\n",
       "      <td>19953.6000</td>\n",
       "      <td>1.097448e+06</td>\n",
       "      <td>24-07-14</td>\n",
       "      <td>6000</td>\n",
       "      <td>...</td>\n",
       "      <td>249420.000</td>\n",
       "      <td>6000</td>\n",
       "      <td>0</td>\n",
       "      <td>6000</td>\n",
       "      <td>OVERSEAS - DELUXE</td>\n",
       "      <td>36</td>\n",
       "      <td>Short-Sleeve Classic Jersey, L</td>\n",
       "      <td>4</td>\n",
       "      <td>Jerseys</td>\n",
       "      <td>Clothing</td>\n",
       "    </tr>\n",
       "    <tr>\n",
       "      <th>4991</th>\n",
       "      <td>4012</td>\n",
       "      <td>1636</td>\n",
       "      <td>24-06-14</td>\n",
       "      <td>19-07-14</td>\n",
       "      <td>997680.000</td>\n",
       "      <td>79814.400</td>\n",
       "      <td>19953.6000</td>\n",
       "      <td>1.097448e+06</td>\n",
       "      <td>24-07-14</td>\n",
       "      <td>6000</td>\n",
       "      <td>...</td>\n",
       "      <td>249420.000</td>\n",
       "      <td>6000</td>\n",
       "      <td>0</td>\n",
       "      <td>6000</td>\n",
       "      <td>OVERSEAS - DELUXE</td>\n",
       "      <td>72</td>\n",
       "      <td>Short-Sleeve Classic Jersey, XL</td>\n",
       "      <td>4</td>\n",
       "      <td>Jerseys</td>\n",
       "      <td>Clothing</td>\n",
       "    </tr>\n",
       "  </tbody>\n",
       "</table>\n",
       "<p>4992 rows × 21 columns</p>\n",
       "</div>"
      ],
      "text/plain": [
       "      pruchaseorderid  vendorid orderdate  shipdate    subtotal     taxamt  \\\n",
       "0                  12      1628  14-12-11  23-12-11   34644.225   2771.538   \n",
       "1                  12      1628  14-12-11  23-12-11   34644.225   2771.538   \n",
       "2                  12      1628  14-12-11  23-12-11   34644.225   2771.538   \n",
       "3                  19      1696  15-12-11  24-12-11   79204.125   6336.330   \n",
       "4                  19      1696  15-12-11  24-12-11   79204.125   6336.330   \n",
       "...               ...       ...       ...       ...         ...        ...   \n",
       "4987             4011      1546  24-06-14  19-07-14   54492.500   4359.400   \n",
       "4988             4012      1636  24-06-14  19-07-14  997680.000  79814.400   \n",
       "4989             4012      1636  24-06-14  19-07-14  997680.000  79814.400   \n",
       "4990             4012      1636  24-06-14  19-07-14  997680.000  79814.400   \n",
       "4991             4012      1636  24-06-14  19-07-14  997680.000  79814.400   \n",
       "\n",
       "          fright      totaldue   duedate  orderqty  ...   linetotal  \\\n",
       "0       866.1056  3.828187e+04  28-12-11       550  ...   34644.225   \n",
       "1       866.1056  3.828187e+04  28-12-11       550  ...   34644.225   \n",
       "2       866.1056  3.828187e+04  28-12-11       550  ...   34644.225   \n",
       "3      1980.1031  8.752056e+04  29-12-11       550  ...   11601.975   \n",
       "4      1980.1031  8.752056e+04  29-12-11       550  ...   11601.975   \n",
       "...          ...           ...       ...       ...  ...         ...   \n",
       "4987   1089.8500  5.994175e+04  24-07-14      1000  ...   20560.000   \n",
       "4988  19953.6000  1.097448e+06  24-07-14      6000  ...  249420.000   \n",
       "4989  19953.6000  1.097448e+06  24-07-14      6000  ...  249420.000   \n",
       "4990  19953.6000  1.097448e+06  24-07-14      6000  ...  249420.000   \n",
       "4991  19953.6000  1.097448e+06  24-07-14      6000  ...  249420.000   \n",
       "\n",
       "      resevedqty  rfjectedqty  stockedqty     shipmethodname quantity  \\\n",
       "0            550           82         468  CARGO TRANSPORT 5      235   \n",
       "1            550           82         468  CARGO TRANSPORT 5      262   \n",
       "2            550           82         468  CARGO TRANSPORT 5      388   \n",
       "3            550            0         550       ZY - EXPRESS      400   \n",
       "4            550            0         550       ZY - EXPRESS      214   \n",
       "...          ...          ...         ...                ...      ...   \n",
       "4987        1000            0        1000  OVERSEAS - DELUXE      108   \n",
       "4988        6000            0        6000  OVERSEAS - DELUXE      324   \n",
       "4989        6000            0        6000  OVERSEAS - DELUXE        0   \n",
       "4990        6000            0        6000  OVERSEAS - DELUXE       36   \n",
       "4991        6000            0        6000  OVERSEAS - DELUXE       72   \n",
       "\n",
       "                          productname saftystocklevel   subcatogryname  \\\n",
       "0                       Touring Pedal             500           Pedals   \n",
       "1                       Touring Pedal             500           Pedals   \n",
       "2                       Touring Pedal             500           Pedals   \n",
       "3             LL Mountain Seat/Saddle             500          Saddles   \n",
       "4             LL Mountain Seat/Saddle             500          Saddles   \n",
       "...                               ...             ...              ...   \n",
       "4987          Hydration Pack - 70 oz.               4  Hydration Packs   \n",
       "4988   Short-Sleeve Classic Jersey, S               4          Jerseys   \n",
       "4989   Short-Sleeve Classic Jersey, M               4          Jerseys   \n",
       "4990   Short-Sleeve Classic Jersey, L               4          Jerseys   \n",
       "4991  Short-Sleeve Classic Jersey, XL               4          Jerseys   \n",
       "\n",
       "      catogryname  \n",
       "0      Components  \n",
       "1      Components  \n",
       "2      Components  \n",
       "3      Components  \n",
       "4      Components  \n",
       "...           ...  \n",
       "4987  Accessories  \n",
       "4988     Clothing  \n",
       "4989     Clothing  \n",
       "4990     Clothing  \n",
       "4991     Clothing  \n",
       "\n",
       "[4992 rows x 21 columns]"
      ]
     },
     "execution_count": 8,
     "metadata": {},
     "output_type": "execute_result"
    }
   ],
   "source": [
    "df"
   ]
  },
  {
   "cell_type": "code",
   "execution_count": 10,
   "id": "8f3c51e4-16b4-4413-bcdc-7ed0f03d8cbe",
   "metadata": {},
   "outputs": [
    {
     "name": "stdout",
     "output_type": "stream",
     "text": [
      "<class 'pandas.core.frame.DataFrame'>\n",
      "RangeIndex: 4992 entries, 0 to 4991\n",
      "Data columns (total 21 columns):\n",
      " #   Column           Non-Null Count  Dtype  \n",
      "---  ------           --------------  -----  \n",
      " 0   pruchaseorderid  4992 non-null   int64  \n",
      " 1   vendorid         4992 non-null   int64  \n",
      " 2   orderdate        4992 non-null   object \n",
      " 3   shipdate         4992 non-null   object \n",
      " 4   subtotal         4992 non-null   float64\n",
      " 5   taxamt           4992 non-null   float64\n",
      " 6   fright           4992 non-null   float64\n",
      " 7   totaldue         4992 non-null   float64\n",
      " 8   duedate          4992 non-null   object \n",
      " 9   orderqty         4992 non-null   int64  \n",
      " 10  unitprice        4992 non-null   float64\n",
      " 11  linetotal        4992 non-null   float64\n",
      " 12  resevedqty       4992 non-null   int64  \n",
      " 13  rfjectedqty      4992 non-null   int64  \n",
      " 14  stockedqty       4992 non-null   int64  \n",
      " 15  shipmethodname   4992 non-null   object \n",
      " 16  quantity         4992 non-null   int64  \n",
      " 17  productname      4992 non-null   object \n",
      " 18  saftystocklevel  4992 non-null   int64  \n",
      " 19  subcatogryname   4992 non-null   object \n",
      " 20  catogryname      4992 non-null   object \n",
      "dtypes: float64(6), int64(8), object(7)\n",
      "memory usage: 819.1+ KB\n"
     ]
    }
   ],
   "source": [
    "df.info()"
   ]
  },
  {
   "cell_type": "code",
   "execution_count": 12,
   "id": "da371245-805c-46f3-abdc-adeb5e6ebb83",
   "metadata": {},
   "outputs": [
    {
     "data": {
      "text/plain": [
       "pruchaseorderid    0\n",
       "vendorid           0\n",
       "orderdate          0\n",
       "shipdate           0\n",
       "subtotal           0\n",
       "taxamt             0\n",
       "fright             0\n",
       "totaldue           0\n",
       "duedate            0\n",
       "orderqty           0\n",
       "unitprice          0\n",
       "linetotal          0\n",
       "resevedqty         0\n",
       "rfjectedqty        0\n",
       "stockedqty         0\n",
       "shipmethodname     0\n",
       "quantity           0\n",
       "productname        0\n",
       "saftystocklevel    0\n",
       "subcatogryname     0\n",
       "catogryname        0\n",
       "dtype: int64"
      ]
     },
     "execution_count": 12,
     "metadata": {},
     "output_type": "execute_result"
    }
   ],
   "source": [
    "df.isnull().sum()"
   ]
  },
  {
   "cell_type": "code",
   "execution_count": 42,
   "id": "e95d5b46-0a52-409b-8e93-518568b71035",
   "metadata": {},
   "outputs": [],
   "source": [
    "import matplotlib.pyplot as plt"
   ]
  },
  {
   "cell_type": "code",
   "execution_count": 14,
   "id": "c41354d2-7c12-458a-8106-f3422cfae18d",
   "metadata": {},
   "outputs": [
    {
     "data": {
      "text/plain": [
       "<Axes: >"
      ]
     },
     "execution_count": 14,
     "metadata": {},
     "output_type": "execute_result"
    },
    {
     "data": {
      "image/png": "[encoded data removed]",
      "text/plain": [
       "<Figure size 640x480 with 1 Axes>"
      ]
     },
     "metadata": {},
     "output_type": "display_data"
    }
   ],
   "source": [
    "df['unitprice'].hist()"
   ]
  },
  {
   "cell_type": "code",
   "execution_count": 18,
   "id": "22ede228-91e4-4d80-b383-384ea279ff03",
   "metadata": {},
   "outputs": [],
   "source": [
    "unitprice_mean = df['unitprice'].mean()"
   ]
  },
  {
   "cell_type": "code",
   "execution_count": 20,
   "id": "966474d9-b58b-4b49-82f1-08f956306be0",
   "metadata": {},
   "outputs": [
    {
     "name": "stdout",
     "output_type": "stream",
     "text": [
      "38.217005629006415\n"
     ]
    }
   ],
   "source": [
    "print(unitprice_mean)"
   ]
  },
  {
   "cell_type": "code",
   "execution_count": 24,
   "id": "1518966d-e05d-4e19-9c69-131822ee699c",
   "metadata": {},
   "outputs": [],
   "source": [
    "subcategoryname_unitprice_avg = df.groupby('subcatogryname')['unitprice'].mean().sort_values(ascending = False)"
   ]
  },
  {
   "cell_type": "code",
   "execution_count": 26,
   "id": "79c7f84f-510b-47dd-b9d2-fa23eec3766e",
   "metadata": {},
   "outputs": [
    {
     "name": "stdout",
     "output_type": "stream",
     "text": [
      "subcatogryname\n",
      "Brakes               82.834500\n",
      "Bike Stands          59.460000\n",
      "Panniers             51.560000\n",
      "Pedals               46.189500\n",
      "Jerseys              40.062500\n",
      "Bib-Shorts           37.100000\n",
      "Bike Racks           33.880000\n",
      "Tires and Tubes      32.503208\n",
      "Tights               30.940000\n",
      "Saddles              30.804859\n",
      "Shorts               25.362857\n",
      "Vests                23.750000\n",
      "Hydration Packs      20.560000\n",
      "Chains               15.739500\n",
      "Helmets              13.084200\n",
      "Gloves               12.410000\n",
      "Locks                10.310000\n",
      "Lights                9.586667\n",
      "Pumps                 9.275000\n",
      "Fenders               8.220000\n",
      "Caps                  6.920000\n",
      "Bottles and Cages     2.990000\n",
      "Cleaners              2.970000\n",
      "Socks                 2.880000\n",
      "Name: unitprice, dtype: float64\n"
     ]
    }
   ],
   "source": [
    "print(subcategoryname_unitprice_avg)"
   ]
  },
  {
   "cell_type": "code",
   "execution_count": 44,
   "id": "532175e7-3a5f-4873-8186-9181cd2228ba",
   "metadata": {},
   "outputs": [
    {
     "data": {
      "text/plain": [
       "Text(0, 0.5, 'Product sub Category')"
      ]
     },
     "execution_count": 44,
     "metadata": {},
     "output_type": "execute_result"
    },
    {
     "data": {
      "image/png": "[encoded data removed]",
      "text/plain": [
       "<Figure size 800x500 with 1 Axes>"
      ]
     },
     "metadata": {},
     "output_type": "display_data"
    }
   ],
   "source": [
    "subcategoryname_unitprice_avg.plot(kind='barh', color='orange', figsize=(8, 5))\n",
    "plt.title(\"unitprice_avg by sub Category\")\n",
    "plt.xlabel(\"unitprice_avg\")\n",
    "plt.ylabel(\"Product sub Category\")"
   ]
  },
  {
   "cell_type": "code",
   "execution_count": 32,
   "id": "58b53e59-1d91-4521-a1d9-0538e8a108f1",
   "metadata": {},
   "outputs": [],
   "source": [
    "subcategoryname_orderqty_sum = df.groupby('subcatogryname')['orderqty'].sum().sort_values(ascending = False)"
   ]
  },
  {
   "cell_type": "code",
   "execution_count": 34,
   "id": "b056674b-de45-438b-b8d1-e3072938a0a7",
   "metadata": {},
   "outputs": [
    {
     "name": "stdout",
     "output_type": "stream",
     "text": [
      "subcatogryname\n",
      "Pedals               871200\n",
      "Saddles              849750\n",
      "Tires and Tubes      781300\n",
      "Brakes               137500\n",
      "Jerseys               25800\n",
      "Shorts                21300\n",
      "Socks                 16300\n",
      "Chains                 9000\n",
      "Vests                  7500\n",
      "Gloves                 4800\n",
      "Bib-Shorts             3050\n",
      "Bottles and Cages      3000\n",
      "Tights                 2250\n",
      "Hydration Packs        1000\n",
      "Caps                    630\n",
      "Pumps                   550\n",
      "Lights                  475\n",
      "Bike Stands             400\n",
      "Helmets                 350\n",
      "Bike Racks              250\n",
      "Panniers                225\n",
      "Fenders                 150\n",
      "Cleaners                150\n",
      "Locks                    75\n",
      "Name: orderqty, dtype: int64\n"
     ]
    }
   ],
   "source": [
    "print(subcategoryname_orderqty_sum)"
   ]
  },
  {
   "cell_type": "code",
   "execution_count": 46,
   "id": "f0057627-5bf3-499c-9af9-4ff057529d4a",
   "metadata": {},
   "outputs": [
    {
     "data": {
      "text/plain": [
       "Text(0, 0.5, 'Product sub Category')"
      ]
     },
     "execution_count": 46,
     "metadata": {},
     "output_type": "execute_result"
    },
    {
     "data": {
      "image/png": "[encoded data removed]",
      "text/plain": [
       "<Figure size 800x500 with 1 Axes>"
      ]
     },
     "metadata": {},
     "output_type": "display_data"
    }
   ],
   "source": [
    "subcategoryname_orderqty_sum.plot(kind='barh', color='green', figsize=(8, 5))\n",
    "plt.title(\"subcategoryname by orderqty_sum\")\n",
    "plt.xlabel(\"orderqty_sum\")\n",
    "plt.ylabel(\"Product sub Category\")"
   ]
  },
  {
   "cell_type": "code",
   "execution_count": 54,
   "id": "91d71db5-6445-48e7-8b0b-6bd4d9240434",
   "metadata": {},
   "outputs": [],
   "source": [
    "shipmethodname_orderqty_sum = df.groupby('shipmethodname')['orderqty'].sum().sort_values(ascending = False)"
   ]
  },
  {
   "cell_type": "code",
   "execution_count": 56,
   "id": "9ef5491b-ba59-4b11-b5d0-eb286909a8ba",
   "metadata": {},
   "outputs": [
    {
     "name": "stdout",
     "output_type": "stream",
     "text": [
      "shipmethodname\n",
      "CARGO TRANSPORT 5     1441550\n",
      "ZY - EXPRESS           594750\n",
      "OVERNIGHT J-FAST       509850\n",
      "OVERSEAS - DELUXE       96255\n",
      "XRQ - TRUCK GROUND      94600\n",
      "Name: orderqty, dtype: int64\n"
     ]
    }
   ],
   "source": [
    "print(shipmethodname_orderqty_sum)"
   ]
  },
  {
   "cell_type": "code",
   "execution_count": 60,
   "id": "a00f96e2-c4ca-4b5c-9156-d3d3a9354aac",
   "metadata": {},
   "outputs": [
    {
     "data": {
      "text/plain": [
       "Text(0.5, 1.0, 'shipmethodname_orderqty_sum')"
      ]
     },
     "execution_count": 60,
     "metadata": {},
     "output_type": "execute_result"
    },
    {
     "data": {
      "image/png": "[encoded data removed]",
      "text/plain": [
       "<Figure size 640x480 with 1 Axes>"
      ]
     },
     "metadata": {},
     "output_type": "display_data"
    }
   ],
   "source": [
    "shipmethodname_orderqty_sum.plot(kind = 'pie', autopct ='%1.1f%%')\n",
    "plt.title(\"shipmethodname_orderqty_sum\")"
   ]
  },
  {
   "cell_type": "code",
   "execution_count": 62,
   "id": "2ea3797d-5475-40e7-806d-8fcee0679d67",
   "metadata": {},
   "outputs": [],
   "source": [
    "catogryname_orderqty_sum = df.groupby('catogryname')['orderqty'].sum().sort_values(ascending = False)"
   ]
  },
  {
   "cell_type": "code",
   "execution_count": 64,
   "id": "569bdeea-cd1e-4898-806f-ff0a24daf8d3",
   "metadata": {},
   "outputs": [
    {
     "name": "stdout",
     "output_type": "stream",
     "text": [
      "catogryname\n",
      "Components     1867450\n",
      "Accessories     787925\n",
      "Clothing         81630\n",
      "Name: orderqty, dtype: int64\n"
     ]
    }
   ],
   "source": [
    "print(catogryname_orderqty_sum)"
   ]
  },
  {
   "cell_type": "code",
   "execution_count": 66,
   "id": "e160a575-8e5b-427b-a79f-f68eb000d9de",
   "metadata": {},
   "outputs": [
    {
     "data": {
      "text/plain": [
       "Text(0.5, 1.0, 'categoryname_orderqty_sum')"
      ]
     },
     "execution_count": 66,
     "metadata": {},
     "output_type": "execute_result"
    },
    {
     "data": {
      "image/png": "[encoded data removed]",
      "text/plain": [
       "<Figure size 640x480 with 1 Axes>"
      ]
     },
     "metadata": {},
     "output_type": "display_data"
    }
   ],
   "source": [
    "catogryname_orderqty_sum.plot(kind = 'pie', autopct ='%1.1f%%')\n",
    "plt.title(\"categoryname_orderqty_sum\")"
   ]
  },
  {
   "cell_type": "code",
   "execution_count": 72,
   "id": "bd9c05c2-467c-4189-9420-140a5bb9a2df",
   "metadata": {},
   "outputs": [
    {
     "name": "stderr",
     "output_type": "stream",
     "text": [
      "C:\\Users\\Asus\\AppData\\Local\\Temp\\ipykernel_6628\\3671954886.py:1: UserWarning: Could not infer format, so each element will be parsed individually, falling back to `dateutil`. To ensure parsing is consistent and as-expected, please specify a format.\n",
      "  df['orderdate'] = pd.to_datetime(df['orderdate'])\n",
      "C:\\Users\\Asus\\AppData\\Local\\Temp\\ipykernel_6628\\3671954886.py:2: UserWarning: Could not infer format, so each element will be parsed individually, falling back to `dateutil`. To ensure parsing is consistent and as-expected, please specify a format.\n",
      "  df['shipdate'] = pd.to_datetime(df['shipdate'])\n"
     ]
    }
   ],
   "source": [
    "df['orderdate'] = pd.to_datetime(df['orderdate'])\n",
    "df['shipdate'] = pd.to_datetime(df['shipdate'])"
   ]
  },
  {
   "cell_type": "code",
   "execution_count": 74,
   "id": "914e0402-3154-4f09-8b8b-b66962594e50",
   "metadata": {},
   "outputs": [],
   "source": [
    "df['DaysBetweenOrderAndShip'] = (df['shipdate'] - df['orderdate']).dt.days"
   ]
  },
  {
   "cell_type": "code",
   "execution_count": 76,
   "id": "acf9640b-94d2-4585-8966-2085aef3d472",
   "metadata": {},
   "outputs": [
    {
     "data": {
      "text/html": [
       "<div>\n",
       "<style scoped>\n",
       "    .dataframe tbody tr th:only-of-type {\n",
       "        vertical-align: middle;\n",
       "    }\n",
       "\n",
       "    .dataframe tbody tr th {\n",
       "        vertical-align: top;\n",
       "    }\n",
       "\n",
       "    .dataframe thead th {\n",
       "        text-align: right;\n",
       "    }\n",
       "</style>\n",
       "<table border=\"1\" class=\"dataframe\">\n",
       "  <thead>\n",
       "    <tr style=\"text-align: right;\">\n",
       "      <th></th>\n",
       "      <th>pruchaseorderid</th>\n",
       "      <th>vendorid</th>\n",
       "      <th>orderdate</th>\n",
       "      <th>shipdate</th>\n",
       "      <th>subtotal</th>\n",
       "      <th>taxamt</th>\n",
       "      <th>fright</th>\n",
       "      <th>totaldue</th>\n",
       "      <th>duedate</th>\n",
       "      <th>orderqty</th>\n",
       "      <th>...</th>\n",
       "      <th>resevedqty</th>\n",
       "      <th>rfjectedqty</th>\n",
       "      <th>stockedqty</th>\n",
       "      <th>shipmethodname</th>\n",
       "      <th>quantity</th>\n",
       "      <th>productname</th>\n",
       "      <th>saftystocklevel</th>\n",
       "      <th>subcatogryname</th>\n",
       "      <th>catogryname</th>\n",
       "      <th>DaysBetweenOrderAndShip</th>\n",
       "    </tr>\n",
       "  </thead>\n",
       "  <tbody>\n",
       "    <tr>\n",
       "      <th>0</th>\n",
       "      <td>12</td>\n",
       "      <td>1628</td>\n",
       "      <td>2011-12-14</td>\n",
       "      <td>2011-12-23</td>\n",
       "      <td>34644.225</td>\n",
       "      <td>2771.538</td>\n",
       "      <td>866.1056</td>\n",
       "      <td>3.828187e+04</td>\n",
       "      <td>28-12-11</td>\n",
       "      <td>550</td>\n",
       "      <td>...</td>\n",
       "      <td>550</td>\n",
       "      <td>82</td>\n",
       "      <td>468</td>\n",
       "      <td>CARGO TRANSPORT 5</td>\n",
       "      <td>235</td>\n",
       "      <td>Touring Pedal</td>\n",
       "      <td>500</td>\n",
       "      <td>Pedals</td>\n",
       "      <td>Components</td>\n",
       "      <td>9</td>\n",
       "    </tr>\n",
       "    <tr>\n",
       "      <th>1</th>\n",
       "      <td>12</td>\n",
       "      <td>1628</td>\n",
       "      <td>2011-12-14</td>\n",
       "      <td>2011-12-23</td>\n",
       "      <td>34644.225</td>\n",
       "      <td>2771.538</td>\n",
       "      <td>866.1056</td>\n",
       "      <td>3.828187e+04</td>\n",
       "      <td>28-12-11</td>\n",
       "      <td>550</td>\n",
       "      <td>...</td>\n",
       "      <td>550</td>\n",
       "      <td>82</td>\n",
       "      <td>468</td>\n",
       "      <td>CARGO TRANSPORT 5</td>\n",
       "      <td>262</td>\n",
       "      <td>Touring Pedal</td>\n",
       "      <td>500</td>\n",
       "      <td>Pedals</td>\n",
       "      <td>Components</td>\n",
       "      <td>9</td>\n",
       "    </tr>\n",
       "    <tr>\n",
       "      <th>2</th>\n",
       "      <td>12</td>\n",
       "      <td>1628</td>\n",
       "      <td>2011-12-14</td>\n",
       "      <td>2011-12-23</td>\n",
       "      <td>34644.225</td>\n",
       "      <td>2771.538</td>\n",
       "      <td>866.1056</td>\n",
       "      <td>3.828187e+04</td>\n",
       "      <td>28-12-11</td>\n",
       "      <td>550</td>\n",
       "      <td>...</td>\n",
       "      <td>550</td>\n",
       "      <td>82</td>\n",
       "      <td>468</td>\n",
       "      <td>CARGO TRANSPORT 5</td>\n",
       "      <td>388</td>\n",
       "      <td>Touring Pedal</td>\n",
       "      <td>500</td>\n",
       "      <td>Pedals</td>\n",
       "      <td>Components</td>\n",
       "      <td>9</td>\n",
       "    </tr>\n",
       "    <tr>\n",
       "      <th>3</th>\n",
       "      <td>19</td>\n",
       "      <td>1696</td>\n",
       "      <td>2011-12-15</td>\n",
       "      <td>2011-12-24</td>\n",
       "      <td>79204.125</td>\n",
       "      <td>6336.330</td>\n",
       "      <td>1980.1031</td>\n",
       "      <td>8.752056e+04</td>\n",
       "      <td>29-12-11</td>\n",
       "      <td>550</td>\n",
       "      <td>...</td>\n",
       "      <td>550</td>\n",
       "      <td>0</td>\n",
       "      <td>550</td>\n",
       "      <td>ZY - EXPRESS</td>\n",
       "      <td>400</td>\n",
       "      <td>LL Mountain Seat/Saddle</td>\n",
       "      <td>500</td>\n",
       "      <td>Saddles</td>\n",
       "      <td>Components</td>\n",
       "      <td>9</td>\n",
       "    </tr>\n",
       "    <tr>\n",
       "      <th>4</th>\n",
       "      <td>19</td>\n",
       "      <td>1696</td>\n",
       "      <td>2011-12-15</td>\n",
       "      <td>2011-12-24</td>\n",
       "      <td>79204.125</td>\n",
       "      <td>6336.330</td>\n",
       "      <td>1980.1031</td>\n",
       "      <td>8.752056e+04</td>\n",
       "      <td>29-12-11</td>\n",
       "      <td>550</td>\n",
       "      <td>...</td>\n",
       "      <td>550</td>\n",
       "      <td>0</td>\n",
       "      <td>550</td>\n",
       "      <td>ZY - EXPRESS</td>\n",
       "      <td>214</td>\n",
       "      <td>LL Mountain Seat/Saddle</td>\n",
       "      <td>500</td>\n",
       "      <td>Saddles</td>\n",
       "      <td>Components</td>\n",
       "      <td>9</td>\n",
       "    </tr>\n",
       "    <tr>\n",
       "      <th>...</th>\n",
       "      <td>...</td>\n",
       "      <td>...</td>\n",
       "      <td>...</td>\n",
       "      <td>...</td>\n",
       "      <td>...</td>\n",
       "      <td>...</td>\n",
       "      <td>...</td>\n",
       "      <td>...</td>\n",
       "      <td>...</td>\n",
       "      <td>...</td>\n",
       "      <td>...</td>\n",
       "      <td>...</td>\n",
       "      <td>...</td>\n",
       "      <td>...</td>\n",
       "      <td>...</td>\n",
       "      <td>...</td>\n",
       "      <td>...</td>\n",
       "      <td>...</td>\n",
       "      <td>...</td>\n",
       "      <td>...</td>\n",
       "      <td>...</td>\n",
       "    </tr>\n",
       "    <tr>\n",
       "      <th>4987</th>\n",
       "      <td>4011</td>\n",
       "      <td>1546</td>\n",
       "      <td>2014-06-24</td>\n",
       "      <td>2014-07-19</td>\n",
       "      <td>54492.500</td>\n",
       "      <td>4359.400</td>\n",
       "      <td>1089.8500</td>\n",
       "      <td>5.994175e+04</td>\n",
       "      <td>24-07-14</td>\n",
       "      <td>1000</td>\n",
       "      <td>...</td>\n",
       "      <td>1000</td>\n",
       "      <td>0</td>\n",
       "      <td>1000</td>\n",
       "      <td>OVERSEAS - DELUXE</td>\n",
       "      <td>108</td>\n",
       "      <td>Hydration Pack - 70 oz.</td>\n",
       "      <td>4</td>\n",
       "      <td>Hydration Packs</td>\n",
       "      <td>Accessories</td>\n",
       "      <td>25</td>\n",
       "    </tr>\n",
       "    <tr>\n",
       "      <th>4988</th>\n",
       "      <td>4012</td>\n",
       "      <td>1636</td>\n",
       "      <td>2014-06-24</td>\n",
       "      <td>2014-07-19</td>\n",
       "      <td>997680.000</td>\n",
       "      <td>79814.400</td>\n",
       "      <td>19953.6000</td>\n",
       "      <td>1.097448e+06</td>\n",
       "      <td>24-07-14</td>\n",
       "      <td>6000</td>\n",
       "      <td>...</td>\n",
       "      <td>6000</td>\n",
       "      <td>0</td>\n",
       "      <td>6000</td>\n",
       "      <td>OVERSEAS - DELUXE</td>\n",
       "      <td>324</td>\n",
       "      <td>Short-Sleeve Classic Jersey, S</td>\n",
       "      <td>4</td>\n",
       "      <td>Jerseys</td>\n",
       "      <td>Clothing</td>\n",
       "      <td>25</td>\n",
       "    </tr>\n",
       "    <tr>\n",
       "      <th>4989</th>\n",
       "      <td>4012</td>\n",
       "      <td>1636</td>\n",
       "      <td>2014-06-24</td>\n",
       "      <td>2014-07-19</td>\n",
       "      <td>997680.000</td>\n",
       "      <td>79814.400</td>\n",
       "      <td>19953.6000</td>\n",
       "      <td>1.097448e+06</td>\n",
       "      <td>24-07-14</td>\n",
       "      <td>6000</td>\n",
       "      <td>...</td>\n",
       "      <td>6000</td>\n",
       "      <td>0</td>\n",
       "      <td>6000</td>\n",
       "      <td>OVERSEAS - DELUXE</td>\n",
       "      <td>0</td>\n",
       "      <td>Short-Sleeve Classic Jersey, M</td>\n",
       "      <td>4</td>\n",
       "      <td>Jerseys</td>\n",
       "      <td>Clothing</td>\n",
       "      <td>25</td>\n",
       "    </tr>\n",
       "    <tr>\n",
       "      <th>4990</th>\n",
       "      <td>4012</td>\n",
       "      <td>1636</td>\n",
       "      <td>2014-06-24</td>\n",
       "      <td>2014-07-19</td>\n",
       "      <td>997680.000</td>\n",
       "      <td>79814.400</td>\n",
       "      <td>19953.6000</td>\n",
       "      <td>1.097448e+06</td>\n",
       "      <td>24-07-14</td>\n",
       "      <td>6000</td>\n",
       "      <td>...</td>\n",
       "      <td>6000</td>\n",
       "      <td>0</td>\n",
       "      <td>6000</td>\n",
       "      <td>OVERSEAS - DELUXE</td>\n",
       "      <td>36</td>\n",
       "      <td>Short-Sleeve Classic Jersey, L</td>\n",
       "      <td>4</td>\n",
       "      <td>Jerseys</td>\n",
       "      <td>Clothing</td>\n",
       "      <td>25</td>\n",
       "    </tr>\n",
       "    <tr>\n",
       "      <th>4991</th>\n",
       "      <td>4012</td>\n",
       "      <td>1636</td>\n",
       "      <td>2014-06-24</td>\n",
       "      <td>2014-07-19</td>\n",
       "      <td>997680.000</td>\n",
       "      <td>79814.400</td>\n",
       "      <td>19953.6000</td>\n",
       "      <td>1.097448e+06</td>\n",
       "      <td>24-07-14</td>\n",
       "      <td>6000</td>\n",
       "      <td>...</td>\n",
       "      <td>6000</td>\n",
       "      <td>0</td>\n",
       "      <td>6000</td>\n",
       "      <td>OVERSEAS - DELUXE</td>\n",
       "      <td>72</td>\n",
       "      <td>Short-Sleeve Classic Jersey, XL</td>\n",
       "      <td>4</td>\n",
       "      <td>Jerseys</td>\n",
       "      <td>Clothing</td>\n",
       "      <td>25</td>\n",
       "    </tr>\n",
       "  </tbody>\n",
       "</table>\n",
       "<p>4992 rows × 22 columns</p>\n",
       "</div>"
      ],
      "text/plain": [
       "      pruchaseorderid  vendorid  orderdate   shipdate    subtotal     taxamt  \\\n",
       "0                  12      1628 2011-12-14 2011-12-23   34644.225   2771.538   \n",
       "1                  12      1628 2011-12-14 2011-12-23   34644.225   2771.538   \n",
       "2                  12      1628 2011-12-14 2011-12-23   34644.225   2771.538   \n",
       "3                  19      1696 2011-12-15 2011-12-24   79204.125   6336.330   \n",
       "4                  19      1696 2011-12-15 2011-12-24   79204.125   6336.330   \n",
       "...               ...       ...        ...        ...         ...        ...   \n",
       "4987             4011      1546 2014-06-24 2014-07-19   54492.500   4359.400   \n",
       "4988             4012      1636 2014-06-24 2014-07-19  997680.000  79814.400   \n",
       "4989             4012      1636 2014-06-24 2014-07-19  997680.000  79814.400   \n",
       "4990             4012      1636 2014-06-24 2014-07-19  997680.000  79814.400   \n",
       "4991             4012      1636 2014-06-24 2014-07-19  997680.000  79814.400   \n",
       "\n",
       "          fright      totaldue   duedate  orderqty  ...  resevedqty  \\\n",
       "0       866.1056  3.828187e+04  28-12-11       550  ...         550   \n",
       "1       866.1056  3.828187e+04  28-12-11       550  ...         550   \n",
       "2       866.1056  3.828187e+04  28-12-11       550  ...         550   \n",
       "3      1980.1031  8.752056e+04  29-12-11       550  ...         550   \n",
       "4      1980.1031  8.752056e+04  29-12-11       550  ...         550   \n",
       "...          ...           ...       ...       ...  ...         ...   \n",
       "4987   1089.8500  5.994175e+04  24-07-14      1000  ...        1000   \n",
       "4988  19953.6000  1.097448e+06  24-07-14      6000  ...        6000   \n",
       "4989  19953.6000  1.097448e+06  24-07-14      6000  ...        6000   \n",
       "4990  19953.6000  1.097448e+06  24-07-14      6000  ...        6000   \n",
       "4991  19953.6000  1.097448e+06  24-07-14      6000  ...        6000   \n",
       "\n",
       "      rfjectedqty  stockedqty     shipmethodname  quantity  \\\n",
       "0              82         468  CARGO TRANSPORT 5       235   \n",
       "1              82         468  CARGO TRANSPORT 5       262   \n",
       "2              82         468  CARGO TRANSPORT 5       388   \n",
       "3               0         550       ZY - EXPRESS       400   \n",
       "4               0         550       ZY - EXPRESS       214   \n",
       "...           ...         ...                ...       ...   \n",
       "4987            0        1000  OVERSEAS - DELUXE       108   \n",
       "4988            0        6000  OVERSEAS - DELUXE       324   \n",
       "4989            0        6000  OVERSEAS - DELUXE         0   \n",
       "4990            0        6000  OVERSEAS - DELUXE        36   \n",
       "4991            0        6000  OVERSEAS - DELUXE        72   \n",
       "\n",
       "                          productname  saftystocklevel   subcatogryname  \\\n",
       "0                       Touring Pedal              500           Pedals   \n",
       "1                       Touring Pedal              500           Pedals   \n",
       "2                       Touring Pedal              500           Pedals   \n",
       "3             LL Mountain Seat/Saddle              500          Saddles   \n",
       "4             LL Mountain Seat/Saddle              500          Saddles   \n",
       "...                               ...              ...              ...   \n",
       "4987          Hydration Pack - 70 oz.                4  Hydration Packs   \n",
       "4988   Short-Sleeve Classic Jersey, S                4          Jerseys   \n",
       "4989   Short-Sleeve Classic Jersey, M                4          Jerseys   \n",
       "4990   Short-Sleeve Classic Jersey, L                4          Jerseys   \n",
       "4991  Short-Sleeve Classic Jersey, XL                4          Jerseys   \n",
       "\n",
       "      catogryname DaysBetweenOrderAndShip  \n",
       "0      Components                       9  \n",
       "1      Components                       9  \n",
       "2      Components                       9  \n",
       "3      Components                       9  \n",
       "4      Components                       9  \n",
       "...           ...                     ...  \n",
       "4987  Accessories                      25  \n",
       "4988     Clothing                      25  \n",
       "4989     Clothing                      25  \n",
       "4990     Clothing                      25  \n",
       "4991     Clothing                      25  \n",
       "\n",
       "[4992 rows x 22 columns]"
      ]
     },
     "execution_count": 76,
     "metadata": {},
     "output_type": "execute_result"
    }
   ],
   "source": [
    "df"
   ]
  },
  {
   "cell_type": "code",
   "execution_count": 78,
   "id": "82d1670d-59d5-4f1d-a086-42039d28f8b0",
   "metadata": {},
   "outputs": [
    {
     "data": {
      "text/plain": [
       "<Axes: >"
      ]
     },
     "execution_count": 78,
     "metadata": {},
     "output_type": "execute_result"
    },
    {
     "data": {
      "image/png": "[encoded data removed]",
      "text/plain": [
       "<Figure size 640x480 with 1 Axes>"
      ]
     },
     "metadata": {},
     "output_type": "display_data"
    }
   ],
   "source": [
    "df['DaysBetweenOrderAndShip'].hist()"
   ]
  },
  {
   "cell_type": "code",
   "execution_count": 86,
   "id": "9d1a045d-163e-4458-b505-647426fb9dd8",
   "metadata": {},
   "outputs": [],
   "source": [
    "On_Time_Delivery_rate = df['DaysBetweenOrderAndShip'].median()"
   ]
  },
  {
   "cell_type": "code",
   "execution_count": 88,
   "id": "4e204cb8-9630-40d5-9f3b-2a5d9a215e4b",
   "metadata": {},
   "outputs": [
    {
     "name": "stdout",
     "output_type": "stream",
     "text": [
      "9.0\n"
     ]
    }
   ],
   "source": [
    "print(On_Time_Delivery_rate)"
   ]
  },
  {
   "cell_type": "code",
   "execution_count": null,
   "id": "ff34b427-afd9-4913-8773-e635b1b291cd",
   "metadata": {},
   "outputs": [],
   "source": []
  }
 ],
 "metadata": {
  "kernelspec": {
   "display_name": "Python [conda env:base] *",
   "language": "python",
   "name": "conda-base-py"
  },
  "language_info": {
   "codemirror_mode": {
    "name": "ipython",
    "version": 3
   },
   "file_extension": ".py",
   "mimetype": "text/x-python",
   "name": "python",
   "nbconvert_exporter": "python",
   "pygments_lexer": "ipython3",
   "version": "3.12.7"
  }
 },
 "nbformat": 4,
 "nbformat_minor": 5
}
